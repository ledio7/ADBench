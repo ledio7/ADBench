{
 "cells": [
  {
   "cell_type": "code",
   "execution_count": 48,
   "metadata": {},
   "outputs": [],
   "source": [
    "from torchvision.datasets import MNIST\n",
    "from river import stream\n",
    "import base\n",
    "import numpy as np\n",
    "from sklearn.utils import shuffle, resample\n",
    "import pandas as pd\n",
    "\n",
    "from mnist import MNIST"
   ]
  },
  {
   "cell_type": "code",
   "execution_count": 51,
   "metadata": {},
   "outputs": [
    {
     "ename": "TypeError",
     "evalue": "__init__() got an unexpected keyword argument 'download'",
     "output_type": "error",
     "traceback": [
      "\u001b[0;31m---------------------------------------------------------------------------\u001b[0m",
      "\u001b[0;31mTypeError\u001b[0m                                 Traceback (most recent call last)",
      "\u001b[0;32m/tmp/ipykernel_6873/3490888640.py\u001b[0m in \u001b[0;36m<module>\u001b[0;34m\u001b[0m\n\u001b[1;32m      7\u001b[0m \u001b[0mn_anom\u001b[0m \u001b[0;34m=\u001b[0m \u001b[0mn_total\u001b[0m \u001b[0;34m-\u001b[0m \u001b[0mn_normal\u001b[0m\u001b[0;34m\u001b[0m\u001b[0;34m\u001b[0m\u001b[0m\n\u001b[1;32m      8\u001b[0m \u001b[0;34m\u001b[0m\u001b[0m\n\u001b[0;32m----> 9\u001b[0;31m \u001b[0mmnist\u001b[0m \u001b[0;34m=\u001b[0m \u001b[0mMNIST\u001b[0m\u001b[0;34m(\u001b[0m\u001b[0;34m\".\"\u001b[0m\u001b[0;34m,\u001b[0m \u001b[0mdownload\u001b[0m\u001b[0;34m=\u001b[0m\u001b[0;32mTrue\u001b[0m\u001b[0;34m)\u001b[0m\u001b[0;34m\u001b[0m\u001b[0;34m\u001b[0m\u001b[0m\n\u001b[0m\u001b[1;32m     10\u001b[0m \u001b[0mx\u001b[0m \u001b[0;34m=\u001b[0m \u001b[0mmnist\u001b[0m\u001b[0;34m.\u001b[0m\u001b[0mdata\u001b[0m\u001b[0;34m.\u001b[0m\u001b[0mnumpy\u001b[0m\u001b[0;34m(\u001b[0m\u001b[0;34m)\u001b[0m\u001b[0;34m.\u001b[0m\u001b[0mreshape\u001b[0m\u001b[0;34m(\u001b[0m\u001b[0;34m(\u001b[0m\u001b[0;36m60000\u001b[0m\u001b[0;34m,\u001b[0m \u001b[0;34m-\u001b[0m\u001b[0;36m1\u001b[0m\u001b[0;34m)\u001b[0m\u001b[0;34m)\u001b[0m\u001b[0;34m\u001b[0m\u001b[0;34m\u001b[0m\u001b[0m\n\u001b[1;32m     11\u001b[0m \u001b[0my\u001b[0m \u001b[0;34m=\u001b[0m \u001b[0mmnist\u001b[0m\u001b[0;34m.\u001b[0m\u001b[0mtargets\u001b[0m\u001b[0;34m.\u001b[0m\u001b[0mnumpy\u001b[0m\u001b[0;34m(\u001b[0m\u001b[0;34m)\u001b[0m\u001b[0;34m\u001b[0m\u001b[0;34m\u001b[0m\u001b[0m\n",
      "\u001b[0;31mTypeError\u001b[0m: __init__() got an unexpected keyword argument 'download'"
     ]
    }
   ],
   "source": [
    "np.random.seed(42)\n",
    "\n",
    "fraction_anom = 0.01\n",
    "n_total = 5000\n",
    "\n",
    "n_normal = int(n_total * (1-fraction_anom))\n",
    "n_anom = n_total - n_normal\n",
    "\n",
    "mnist = MNIST(\".\", download=True)\n",
    "x = mnist.data.numpy().reshape((60000, -1))\n",
    "y = mnist.targets.numpy()\n",
    "x, y = shuffle(x, y)\n",
    "xs = [list(x[y==digit]) for digit in range(10)]\n",
    "x_new, is_anom = [], []\n",
    "for digit in range(10):\n",
    "    x_normal = xs[digit][:n_normal]\n",
    "    xs[digit] = xs[digit][n_normal:]\n",
    "\n",
    "    x_anom_idcs = np.random.choice([j for j in range(10) if j != digit], size=n_anom)\n",
    "    x_anom = [xs[x_anom_idx].pop(0) for x_anom_idx in x_anom_idcs]\n",
    "\n",
    "    x_new_digit = x_normal + x_anom\n",
    "    is_anom_digit = [0] * len(x_normal) + [1] * len(x_anom)\n",
    "    x_new_digit, is_anom_digit = shuffle(x_new_digit, is_anom_digit)\n",
    "    x_new += x_new_digit\n",
    "    is_anom += is_anom_digit\n",
    "\n",
    "df = pd.DataFrame(x_new, columns=[f\"Pixel {i}\" for i in range(1, 785)])\n",
    "df[\"is_anom\"] = is_anom\n",
    "df.to_csv(\"mnist.csv\", index=False)"
   ]
  }
 ],
 "metadata": {
  "interpreter": {
   "hash": "f6fb964f6bcc4116fb625a0bc672b8cbecf200afdb2b27af1a0a9b3e96fd5675"
  },
  "kernelspec": {
   "display_name": "Python 3.9.5 64-bit ('.venv': venv)",
   "language": "python",
   "name": "python3"
  },
  "language_info": {
   "codemirror_mode": {
    "name": "ipython",
    "version": 3
   },
   "file_extension": ".py",
   "mimetype": "text/x-python",
   "name": "python",
   "nbconvert_exporter": "python",
   "pygments_lexer": "ipython3",
   "version": "3.9.7"
  },
  "orig_nbformat": 4
 },
 "nbformat": 4,
 "nbformat_minor": 2
}
